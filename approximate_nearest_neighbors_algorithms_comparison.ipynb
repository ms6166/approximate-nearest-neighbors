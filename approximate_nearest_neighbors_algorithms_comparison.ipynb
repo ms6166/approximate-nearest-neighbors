{
 "cells": [
  {
   "cell_type": "markdown",
   "metadata": {},
   "source": [
    "# Comparing different methods of approximating nearest neighbors"
   ]
  },
  {
   "cell_type": "markdown",
   "metadata": {},
   "source": [
    "## Euclidean Space"
   ]
  },
  {
   "cell_type": "markdown",
   "metadata": {},
   "source": [
    "Python implementation of different searches for exact nearest neighbors using random numbers between 0 and 1000 for a dataset of size 1000.\n",
    "These functions will select a random point from the dataset and find its nearest neighbor. \n",
    "They'll then print the selected point, its nearest neighbor, and the Euclidean distance between them."
   ]
  },
  {
   "cell_type": "markdown",
   "metadata": {},
   "source": [
    "### Method 1: Exhaustive Search"
   ]
  },
  {
   "cell_type": "code",
   "execution_count": 1,
   "metadata": {},
   "outputs": [
    {
     "name": "stdout",
     "output_type": "stream",
     "text": [
      "Selected Point: [710 400]\n",
      "Nearest Neighbor: [709 415]\n",
      "Distance to Nearest Neighbor: 15.033296378372908\n",
      "Time taken: 10.629792928695679 seconds\n"
     ]
    }
   ],
   "source": [
    "import numpy as np\n",
    "import time\n",
    "\n",
    "def euclidean_distance(point1, point2):\n",
    "    return np.sqrt(np.sum((point1 - point2)**2))\n",
    "\n",
    "def exhaustive_nearest_neighbors(dataset):\n",
    "    num_points = len(dataset)\n",
    "    nearest_neighbors = []\n",
    "\n",
    "    for i in range(num_points):\n",
    "        min_distance = float('inf')\n",
    "        nearest_neighbor_idx = None\n",
    "\n",
    "        for j in range(num_points):\n",
    "            if i != j:\n",
    "                distance = euclidean_distance(dataset[i], dataset[j])\n",
    "                if distance < min_distance:\n",
    "                    min_distance = distance\n",
    "                    nearest_neighbor_idx = j\n",
    "        \n",
    "        nearest_neighbors.append(nearest_neighbor_idx)\n",
    "    \n",
    "    return nearest_neighbors\n",
    "\n",
    "def main():\n",
    "    np.random.seed(42)  # Set random seed for reproducibility\n",
    "    dataset_size = 1000\n",
    "    dataset = np.random.randint(0, 1001, size=(dataset_size, 2))  # Generating random points\n",
    "\n",
    "    selected_point_idx = np.random.randint(0, dataset_size)  # Select a random point\n",
    "    selected_point = dataset[selected_point_idx]\n",
    "    \n",
    "    start_time = time.time()\n",
    "    nearest_neighbors = exhaustive_nearest_neighbors(dataset)\n",
    "    end_time = time.time()\n",
    "\n",
    "    nearest_neighbor_idx = nearest_neighbors[selected_point_idx]\n",
    "    nearest_neighbor = dataset[nearest_neighbor_idx]\n",
    "    distance_to_nearest_neighbor = euclidean_distance(selected_point, nearest_neighbor)\n",
    "\n",
    "    print(\"Selected Point:\", selected_point)\n",
    "    print(\"Nearest Neighbor:\", nearest_neighbor)\n",
    "    print(\"Distance to Nearest Neighbor:\", distance_to_nearest_neighbor)\n",
    "    print(\"Time taken:\", end_time - start_time, \"seconds\")\n",
    "\n",
    "if __name__ == \"__main__\":\n",
    "    main()"
   ]
  },
  {
   "cell_type": "markdown",
   "metadata": {},
   "source": [
    "### Method 2: [scikit-learn's NearestNeighbors](https://scikit-learn.org/stable/modules/neighbors.html)"
   ]
  },
  {
   "cell_type": "code",
   "execution_count": null,
   "metadata": {},
   "outputs": [],
   "source": [
    "pip install scikit-learn"
   ]
  },
  {
   "cell_type": "code",
   "execution_count": 6,
   "metadata": {},
   "outputs": [
    {
     "name": "stdout",
     "output_type": "stream",
     "text": [
      "Selected Point: [710. 400.]\n",
      "Nearest Neighbor: [709. 415.]\n",
      "Distance to Nearest Neighbor: 15.033297\n",
      "Time taken: 0.13064813613891602 seconds\n"
     ]
    }
   ],
   "source": [
    "import numpy as np\n",
    "from sklearn.neighbors import NearestNeighbors\n",
    "import time\n",
    "\n",
    "def main():\n",
    "    np.random.seed(42)  # Set random seed for reproducibility\n",
    "    dataset_size = 1000\n",
    "    embedding_size = 2\n",
    "\n",
    "    # Generate random data points for the dataset\n",
    "    dataset = np.random.randint(0, 1001, size=(dataset_size, embedding_size)).astype(np.float32)\n",
    "\n",
    "    # Build the NearestNeighbors index\n",
    "    nn = NearestNeighbors(n_neighbors=2, algorithm='brute', metric='euclidean')\n",
    "    nn.fit(dataset)\n",
    "\n",
    "    selected_point_idx = np.random.randint(0, dataset_size)  # Select a random point\n",
    "    selected_point = dataset[selected_point_idx]\n",
    "\n",
    "    start_time = time.time()\n",
    "    \n",
    "    # Find the nearest neighbor\n",
    "    distances, indices = nn.kneighbors([selected_point])\n",
    "    nearest_neighbor_idx = indices[0, 1]\n",
    "    nearest_neighbor = dataset[nearest_neighbor_idx]\n",
    "    distance_to_nearest_neighbor = distances[0, 1]\n",
    "    \n",
    "    end_time = time.time()\n",
    "\n",
    "    print(\"Selected Point:\", selected_point)\n",
    "    print(\"Nearest Neighbor:\", nearest_neighbor)\n",
    "    print(\"Distance to Nearest Neighbor:\", distance_to_nearest_neighbor)\n",
    "    print(\"Time taken:\", end_time - start_time, \"seconds\")\n",
    "\n",
    "if __name__ == \"__main__\":\n",
    "    main()"
   ]
  },
  {
   "cell_type": "markdown",
   "metadata": {},
   "source": [
    "### Method 3: [SciPy's KDTree](https://docs.scipy.org/doc/scipy/reference/generated/scipy.spatial.KDTree.html) "
   ]
  },
  {
   "cell_type": "code",
   "execution_count": 7,
   "metadata": {},
   "outputs": [
    {
     "name": "stdout",
     "output_type": "stream",
     "text": [
      "Requirement already satisfied: scipy in c:\\users\\asus\\anaconda3\\envs\\pandas\\lib\\site-packages (1.8.1)Note: you may need to restart the kernel to use updated packages.\n",
      "\n",
      "Requirement already satisfied: numpy<1.25.0,>=1.17.3 in c:\\users\\asus\\anaconda3\\envs\\pandas\\lib\\site-packages (from scipy) (1.22.3)\n"
     ]
    }
   ],
   "source": [
    "pip install scipy"
   ]
  },
  {
   "cell_type": "code",
   "execution_count": 8,
   "metadata": {},
   "outputs": [
    {
     "name": "stdout",
     "output_type": "stream",
     "text": [
      "Selected Point: [710. 400.]\n",
      "Nearest Neighbor: [709. 415.]\n",
      "Distance to Nearest Neighbor: 15.033296378372908\n",
      "Time taken: 0.02311539649963379 seconds\n"
     ]
    }
   ],
   "source": [
    "import numpy as np\n",
    "from scipy.spatial import KDTree\n",
    "import time\n",
    "\n",
    "def main():\n",
    "    np.random.seed(42)  # Set random seed for reproducibility\n",
    "    dataset_size = 1000\n",
    "    embedding_size = 2\n",
    "\n",
    "    # Generate random data points for the dataset\n",
    "    dataset = np.random.randint(0, 1001, size=(dataset_size, embedding_size)).astype(np.float32)\n",
    "\n",
    "    # Build the KDTree\n",
    "    kdtree = KDTree(dataset)\n",
    "\n",
    "    selected_point_idx = np.random.randint(0, dataset_size)  # Select a random point\n",
    "    selected_point = dataset[selected_point_idx]\n",
    "\n",
    "    start_time = time.time()\n",
    "    \n",
    "    # Find the nearest neighbor\n",
    "    distance, nearest_neighbor_idx = kdtree.query(selected_point, k=2)\n",
    "    nearest_neighbor = dataset[nearest_neighbor_idx[1]]\n",
    "    \n",
    "    end_time = time.time()\n",
    "\n",
    "    print(\"Selected Point:\", selected_point)\n",
    "    print(\"Nearest Neighbor:\", nearest_neighbor)\n",
    "    print(\"Distance to Nearest Neighbor:\", distance[1])\n",
    "    print(\"Time taken:\", end_time - start_time, \"seconds\")\n",
    "\n",
    "if __name__ == \"__main__\":\n",
    "    main()"
   ]
  },
  {
   "cell_type": "markdown",
   "metadata": {},
   "source": [
    "### Method 4: [pynndescent's NNDescent](https://pynndescent.readthedocs.io/en/latest/)"
   ]
  },
  {
   "cell_type": "code",
   "execution_count": 9,
   "metadata": {},
   "outputs": [
    {
     "name": "stdout",
     "output_type": "stream",
     "text": [
      "Note: you may need to restart the kernel to use updated packages.Collecting pynndescent\n",
      "\n",
      "  Downloading pynndescent-0.5.10.tar.gz (1.1 MB)\n",
      "Requirement already satisfied: scikit-learn>=0.18 in c:\\users\\asus\\anaconda3\\envs\\pandas\\lib\\site-packages (from pynndescent) (1.0.2)\n",
      "Requirement already satisfied: scipy>=1.0 in c:\\users\\asus\\anaconda3\\envs\\pandas\\lib\\site-packages (from pynndescent) (1.8.1)\n",
      "Collecting numba>=0.51.2\n",
      "  Downloading numba-0.57.1-cp39-cp39-win_amd64.whl (2.5 MB)\n",
      "Collecting llvmlite>=0.30\n",
      "  Downloading llvmlite-0.40.1-cp39-cp39-win_amd64.whl (27.7 MB)\n",
      "Requirement already satisfied: joblib>=0.11 in c:\\users\\asus\\anaconda3\\envs\\pandas\\lib\\site-packages (from pynndescent) (1.1.0)\n",
      "Requirement already satisfied: numpy<1.25,>=1.21 in c:\\users\\asus\\anaconda3\\envs\\pandas\\lib\\site-packages (from numba>=0.51.2->pynndescent) (1.22.3)\n",
      "Requirement already satisfied: threadpoolctl>=2.0.0 in c:\\users\\asus\\anaconda3\\envs\\pandas\\lib\\site-packages (from scikit-learn>=0.18->pynndescent) (3.1.0)\n",
      "Building wheels for collected packages: pynndescent\n",
      "  Building wheel for pynndescent (setup.py): started\n",
      "  Building wheel for pynndescent (setup.py): finished with status 'done'\n",
      "  Created wheel for pynndescent: filename=pynndescent-0.5.10-py3-none-any.whl size=55638 sha256=c532f6fa40d260c9d7d9acef9ea9a3f776699786bc4d9b0f5cb0f625fbeed6b5\n",
      "  Stored in directory: c:\\users\\asus\\appdata\\local\\pip\\cache\\wheels\\12\\f9\\4d\\ec5ad1c823c710fcc4473669fdcffc8891f4bc398c841af22e\n",
      "Successfully built pynndescent\n",
      "Installing collected packages: llvmlite, numba, pynndescent\n",
      "Successfully installed llvmlite-0.40.1 numba-0.57.1 pynndescent-0.5.10\n"
     ]
    }
   ],
   "source": [
    "pip install pynndescent"
   ]
  },
  {
   "cell_type": "code",
   "execution_count": 10,
   "metadata": {},
   "outputs": [
    {
     "name": "stderr",
     "output_type": "stream",
     "text": [
      "c:\\Users\\ASUS\\anaconda3\\envs\\Pandas\\lib\\site-packages\\numba\\np\\ufunc\\parallel.py:371: NumbaWarning: \u001b[1mThe TBB threading layer requires TBB version 2021 update 6 or later i.e., TBB_INTERFACE_VERSION >= 12060. Found TBB_INTERFACE_VERSION = 12050. The TBB threading layer is disabled.\u001b[0m\n",
      "  warnings.warn(problem)\n"
     ]
    },
    {
     "name": "stdout",
     "output_type": "stream",
     "text": [
      "Selected Point: [242.  85.]\n",
      "Nearest Neighbor: [230.  85.]\n",
      "Approximate Distance to Nearest Neighbor: 12.0\n",
      "Time taken: 19.835765600204468 seconds\n"
     ]
    }
   ],
   "source": [
    "import numpy as np\n",
    "from pynndescent import NNDescent\n",
    "import time\n",
    "\n",
    "def main():\n",
    "    np.random.seed(42)  # Set random seed for reproducibility\n",
    "    dataset_size = 1000\n",
    "    embedding_size = 2\n",
    "\n",
    "    # Generate random data points for the dataset\n",
    "    dataset = np.random.randint(0, 1001, size=(dataset_size, embedding_size)).astype(np.float32)\n",
    "\n",
    "    # Build the NNDescent index\n",
    "    nnd_index = NNDescent(dataset)\n",
    "\n",
    "    selected_point_idx = np.random.randint(0, dataset_size)  # Select a random point\n",
    "    selected_point = dataset[selected_point_idx]\n",
    "\n",
    "    start_time = time.time()\n",
    "    \n",
    "    # Find the nearest neighbor\n",
    "    nearest_neighbor_idx, _ = nnd_index.query([selected_point], k=2)\n",
    "    nearest_neighbor = dataset[nearest_neighbor_idx[0, 1]]\n",
    "    \n",
    "    end_time = time.time()\n",
    "\n",
    "    print(\"Selected Point:\", selected_point)\n",
    "    print(\"Nearest Neighbor:\", nearest_neighbor)\n",
    "    print(\"Approximate Distance to Nearest Neighbor:\", np.linalg.norm(selected_point - nearest_neighbor))\n",
    "    print(\"Time taken:\", end_time - start_time, \"seconds\")\n",
    "\n",
    "if __name__ == \"__main__\":\n",
    "    main()"
   ]
  },
  {
   "cell_type": "markdown",
   "metadata": {},
   "source": [
    "### Method 5: [FAISS by Meta](https://github.com/facebookresearch/faiss)"
   ]
  },
  {
   "cell_type": "markdown",
   "metadata": {},
   "source": [
    "So far, this is the fastest method."
   ]
  },
  {
   "cell_type": "code",
   "execution_count": 2,
   "metadata": {},
   "outputs": [
    {
     "name": "stdout",
     "output_type": "stream",
     "text": [
      "Collecting faiss-cpu\n",
      "  Downloading faiss_cpu-1.7.4-cp39-cp39-win_amd64.whl (10.8 MB)\n",
      "Installing collected packages: faiss-cpu\n",
      "Successfully installed faiss-cpu-1.7.4\n",
      "Note: you may need to restart the kernel to use updated packages.\n"
     ]
    }
   ],
   "source": [
    "pip install faiss-cpu"
   ]
  },
  {
   "cell_type": "code",
   "execution_count": 3,
   "metadata": {},
   "outputs": [
    {
     "name": "stdout",
     "output_type": "stream",
     "text": [
      "Selected Point: [710. 400.]\n",
      "Nearest Neighbor: [709. 415.]\n",
      "Approximate Distance to Nearest Neighbor: 226.0\n",
      "Time taken: 0.0009987354278564453 seconds\n"
     ]
    }
   ],
   "source": [
    "import numpy as np\n",
    "import faiss\n",
    "import time\n",
    "\n",
    "def main():\n",
    "    np.random.seed(42)  # Set random seed for reproducibility\n",
    "    dataset_size = 1000\n",
    "    embedding_size = 2\n",
    "\n",
    "    # Generate random data points for the dataset\n",
    "    dataset = np.random.randint(0, 1001, size=(dataset_size, embedding_size)).astype(np.float32)\n",
    "\n",
    "    # Build the Faiss index\n",
    "    index = faiss.IndexFlatL2(embedding_size)\n",
    "    index.add(dataset)\n",
    "\n",
    "    selected_point_idx = np.random.randint(0, dataset_size)  # Select a random point\n",
    "    selected_point = dataset[selected_point_idx]\n",
    "\n",
    "    start_time = time.time()\n",
    "    \n",
    "    # Find the nearest neighbor\n",
    "    distance, nearest_neighbor_idx = index.search(np.array([selected_point]), k=2)\n",
    "    nearest_neighbor = dataset[nearest_neighbor_idx[0, 1]]\n",
    "    \n",
    "    end_time = time.time()\n",
    "\n",
    "    print(\"Selected Point:\", selected_point)\n",
    "    print(\"Nearest Neighbor:\", nearest_neighbor)\n",
    "    print(\"Approximate Distance to Nearest Neighbor:\", distance[0, 1])\n",
    "    print(\"Time taken:\", end_time - start_time, \"seconds\")\n",
    "\n",
    "if __name__ == \"__main__\":\n",
    "    main()"
   ]
  },
  {
   "cell_type": "markdown",
   "metadata": {},
   "source": [
    "#### Besides, you can also try [Annoy (developed by Spotify)](https://github.com/spotify/annoy), [NMSLIB](https://github.com/nmslib/nmslib), [NGT (developed by YahooJapan)](https://github.com/yahoojapan/NGT). For some reasons, my C+ compiler has not been able to execute these codes. "
   ]
  },
  {
   "cell_type": "markdown",
   "metadata": {},
   "source": [
    "## Hyperbolic Space"
   ]
  },
  {
   "cell_type": "markdown",
   "metadata": {},
   "source": [
    "### Method 1: [Geomloss Library](https://www.kernel-operations.io/geomloss/)"
   ]
  },
  {
   "cell_type": "code",
   "execution_count": 7,
   "metadata": {},
   "outputs": [
    {
     "name": "stdout",
     "output_type": "stream",
     "text": [
      "Collecting geomloss\n",
      "  Downloading geomloss-0.2.6.tar.gz (26 kB)\n",
      "Requirement already satisfied: numpy in c:\\users\\asus\\anaconda3\\envs\\pandas\\lib\\site-packages (from geomloss) (1.22.3)\n",
      "Requirement already satisfied: torch in c:\\users\\asus\\anaconda3\\envs\\pandas\\lib\\site-packages (from geomloss) (1.11.0)\n",
      "Requirement already satisfied: typing-extensions in c:\\users\\asus\\anaconda3\\envs\\pandas\\lib\\site-packages (from torch->geomloss) (4.2.0)\n",
      "Building wheels for collected packages: geomloss\n",
      "  Building wheel for geomloss (setup.py): started\n",
      "  Building wheel for geomloss (setup.py): finished with status 'done'\n",
      "  Created wheel for geomloss: filename=geomloss-0.2.6-py3-none-any.whl size=32259 sha256=24f30d799693e4c1fe86253af18d11d300d97cf3f167161e1295cd6d0a124a99\n",
      "  Stored in directory: c:\\users\\asus\\appdata\\local\\pip\\cache\\wheels\\6f\\e1\\ba\\7ecd1fe2056dc36c59f58b7c9f2ca2075abd585caa5cd83ce6\n",
      "Successfully built geomloss\n",
      "Installing collected packages: geomloss\n",
      "Successfully installed geomloss-0.2.6\n",
      "Note: you may need to restart the kernel to use updated packages.\n"
     ]
    }
   ],
   "source": [
    "pip install geomloss"
   ]
  },
  {
   "cell_type": "code",
   "execution_count": 9,
   "metadata": {},
   "outputs": [
    {
     "name": "stdout",
     "output_type": "stream",
     "text": [
      "Selected Point: tensor([ 1.5796, -0.5229])\n",
      "Random Point: tensor([-0.9717, -1.3796])\n",
      "Approximate Distance to Random Point: 3.621401786804199\n",
      "Time taken: 0.07400345802307129 seconds\n"
     ]
    }
   ],
   "source": [
    "import numpy as np\n",
    "import torch\n",
    "from geomloss import SamplesLoss\n",
    "import time\n",
    "\n",
    "def main():\n",
    "    np.random.seed(42)  # Set random seed for reproducibility\n",
    "    dataset_size = 1000\n",
    "    embedding_size = 2\n",
    "\n",
    "    # Generate random data points in hyperbolic space\n",
    "    hyperbolic_points = np.random.normal(size=(dataset_size, embedding_size))\n",
    "    hyperbolic_points = torch.tensor(hyperbolic_points, dtype=torch.float32)\n",
    "\n",
    "    # Select a random point\n",
    "    selected_point_idx = np.random.randint(0, dataset_size)\n",
    "    selected_point = hyperbolic_points[selected_point_idx]\n",
    "\n",
    "    # Generate another random point in hyperbolic space\n",
    "    random_point_idx = np.random.randint(0, dataset_size)\n",
    "    random_point = hyperbolic_points[random_point_idx]\n",
    "\n",
    "    start_time = time.time()\n",
    "\n",
    "    # Perform nearest neighbor search\n",
    "    loss = SamplesLoss(loss=\"sinkhorn\", p=2)\n",
    "    distances = loss(selected_point.unsqueeze(0), random_point.unsqueeze(0))\n",
    "\n",
    "    end_time = time.time()\n",
    "\n",
    "    print(\"Selected Point:\", selected_point)\n",
    "    print(\"Random Point:\", random_point)\n",
    "    print(\"Approximate Distance to Random Point:\", distances.item())\n",
    "    print(\"Time taken:\", end_time - start_time, \"seconds\")\n",
    "\n",
    "if __name__ == \"__main__\":\n",
    "    main()"
   ]
  },
  {
   "cell_type": "markdown",
   "metadata": {},
   "source": [
    "### Other possible approaches: [HNSWLIB](https://github.com/nmslib/hnswlib), [Poincare-Embeddings](https://github.com/facebookresearch/poincare-embeddings) "
   ]
  }
 ],
 "metadata": {
  "kernelspec": {
   "display_name": "Pandas",
   "language": "python",
   "name": "python3"
  },
  "language_info": {
   "codemirror_mode": {
    "name": "ipython",
    "version": 3
   },
   "file_extension": ".py",
   "mimetype": "text/x-python",
   "name": "python",
   "nbconvert_exporter": "python",
   "pygments_lexer": "ipython3",
   "version": "3.9.12"
  },
  "orig_nbformat": 4
 },
 "nbformat": 4,
 "nbformat_minor": 2
}
